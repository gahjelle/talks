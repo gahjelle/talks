{
 "cells": [
  {
   "cell_type": "code",
   "execution_count": null,
   "metadata": {
    "ExecuteTime": {
     "end_time": "2020-11-25T06:27:48.054921Z",
     "start_time": "2020-11-25T06:27:47.859428Z"
    },
    "slideshow": {
     "slide_type": "skip"
    }
   },
   "outputs": [],
   "source": [
    "%matplotlib inline"
   ]
  },
  {
   "cell_type": "markdown",
   "metadata": {
    "slideshow": {
     "slide_type": "slide"
    }
   },
   "source": [
    "<h1 align=\"center\">Maps, Maps, Maps!!</h1>\n",
    "\n",
    "<h2 align=\"center\">Geir Arne Hjelle</h2>\n",
    "\n",
    "<h3 align=\"center\">PyData Global 2022</h3>\n",
    "<h3 align=\"center\">December 2nd, 2022</h3>"
   ]
  },
  {
   "cell_type": "markdown",
   "metadata": {
    "slideshow": {
     "slide_type": "slide"
    }
   },
   "source": [
    "# Geir Arne Hjelle\n",
    "\n",
    "- Lives in **Oslo, Norway**\n",
    "- Works at **Real Python** ([realpython.com](https://realpython.com/))\n",
    "- Experience with **Python** since 2012\n",
    "- Worked at the **Norwegian Mapping Authority**"
   ]
  },
  {
   "cell_type": "markdown",
   "metadata": {
    "ExecuteTime": {
     "end_time": "2020-11-19T07:28:16.572049Z",
     "start_time": "2020-11-19T07:28:16.568915Z"
    },
    "slideshow": {
     "slide_type": "slide"
    }
   },
   "source": [
    "# Folium\n",
    "\n",
    "**Folium** is a wrapper around the **LeafletJS** JavaScript library, and can be used for making interactive maps:"
   ]
  },
  {
   "cell_type": "code",
   "execution_count": null,
   "metadata": {
    "ExecuteTime": {
     "end_time": "2020-11-25T06:44:54.958012Z",
     "start_time": "2020-11-25T06:44:54.946082Z"
    },
    "slideshow": {
     "slide_type": "-"
    }
   },
   "outputs": [],
   "source": [
    "import folium\n",
    "\n",
    "map = folium.Map((0, 0), zoom_start=3)\n",
    "map"
   ]
  },
  {
   "cell_type": "markdown",
   "metadata": {
    "slideshow": {
     "slide_type": "subslide"
    }
   },
   "source": [
    "## Folium\n",
    "\n",
    "We can add custom locations to use in the presentation:"
   ]
  },
  {
   "cell_type": "code",
   "execution_count": null,
   "metadata": {
    "ExecuteTime": {
     "end_time": "2020-11-25T07:58:02.622779Z",
     "start_time": "2020-11-25T07:58:02.613991Z"
    },
    "slideshow": {
     "slide_type": "-"
    }
   },
   "outputs": [],
   "source": [
    "locations = {\n",
    "    \"Andenes\": (69.32, 16.12),\n",
    "    \"Oslo\": (59.92, 10.75),\n",
    "    \"Barcelona\": (41.39, 2.16),\n",
    "    \"St. Louis\": (38.63, -90.20),\n",
    "}"
   ]
  },
  {
   "cell_type": "markdown",
   "metadata": {
    "slideshow": {
     "slide_type": "subslide"
    }
   },
   "source": [
    "## Folium\n",
    "\n",
    "You can connect to different Web Map Tile Services (WMTS), and display markers, polygons and other information on your map:"
   ]
  },
  {
   "cell_type": "code",
   "execution_count": null,
   "metadata": {
    "ExecuteTime": {
     "end_time": "2020-11-25T06:46:17.899042Z",
     "start_time": "2020-11-25T06:46:17.867578Z"
    },
    "scrolled": true,
    "slideshow": {
     "slide_type": "-"
    }
   },
   "outputs": [],
   "source": [
    "map = folium.Map((25, 0), zoom_start=3, tiles=\"stamenwatercolor\")\n",
    "for name, latlon in locations.items():\n",
    "    folium.Marker(latlon, popup=name).add_to(map)\n",
    "map"
   ]
  },
  {
   "cell_type": "markdown",
   "metadata": {
    "slideshow": {
     "slide_type": "subslide"
    }
   },
   "source": [
    "## Folium\n",
    "\n",
    "**Folium** is great for **exploring** and getting an **overview** of your data.\n",
    "\n",
    "The package can also be used to **visualize** data for your end-users.\n",
    "\n",
    "See [python-visualization.github.io/folium/](https://python-visualization.github.io/folium/) for more information."
   ]
  },
  {
   "cell_type": "markdown",
   "metadata": {
    "slideshow": {
     "slide_type": "slide"
    }
   },
   "source": [
    "# Geopandas\n",
    "\n",
    "**Geopandas** is built on top of, and brings together the functionality of many different geospatial Python packages:"
   ]
  },
  {
   "cell_type": "markdown",
   "metadata": {
    "slideshow": {
     "slide_type": "fragment"
    }
   },
   "source": [
    "- **pandas**: Data analysis\n",
    "- **Shapely**: Describing points, polygons, etc\n",
    "- **Fiona**: Read and write geo-file formats like Shape, GeoJSON, etc\n",
    "- **PyProj**: Convert and transform coordinates. Based on **Proj**\n",
    "- **Descartes**: Draw points, polygons, etc in **Matplotlib** figures\n",
    "- **Folium**: Add data to interactive maps"
   ]
  },
  {
   "cell_type": "markdown",
   "metadata": {
    "slideshow": {
     "slide_type": "subslide"
    }
   },
   "source": [
    "## Shapely\n",
    "\n",
    "**Shapely** deals with abstract **points**, **lines**, **polygons** and similar geometric objects"
   ]
  },
  {
   "cell_type": "code",
   "execution_count": null,
   "metadata": {
    "slideshow": {
     "slide_type": "-"
    }
   },
   "outputs": [],
   "source": [
    "from shapely import geometry\n",
    "\n",
    "point = geometry.Point((2, 3))\n",
    "line = geometry.LineString([(5, 0), (2, 6)])\n",
    "square = geometry.Polygon([(1, 1), (1, 4), (4, 4), (4, 1), (1, 1)])"
   ]
  },
  {
   "cell_type": "markdown",
   "metadata": {
    "slideshow": {
     "slide_type": "subslide"
    }
   },
   "source": [
    "## Shapely\n",
    "\n",
    "You can inspect **Shapely** objects"
   ]
  },
  {
   "cell_type": "code",
   "execution_count": null,
   "metadata": {
    "slideshow": {
     "slide_type": "-"
    }
   },
   "outputs": [],
   "source": [
    "list(line.coords)"
   ]
  },
  {
   "cell_type": "code",
   "execution_count": null,
   "metadata": {
    "slideshow": {
     "slide_type": "-"
    }
   },
   "outputs": [],
   "source": [
    "line"
   ]
  },
  {
   "cell_type": "code",
   "execution_count": null,
   "metadata": {
    "slideshow": {
     "slide_type": "-"
    }
   },
   "outputs": [],
   "source": [
    "square"
   ]
  },
  {
   "cell_type": "markdown",
   "metadata": {
    "slideshow": {
     "slide_type": "subslide"
    }
   },
   "source": [
    "# Shapely\n",
    "\n",
    "**Shapely** supports lots of calculations, transformations, predicates, and other operations"
   ]
  },
  {
   "cell_type": "code",
   "execution_count": null,
   "metadata": {
    "slideshow": {
     "slide_type": "-"
    }
   },
   "outputs": [],
   "source": [
    "point.union(line)"
   ]
  },
  {
   "cell_type": "code",
   "execution_count": null,
   "metadata": {},
   "outputs": [],
   "source": [
    "str(point.union(line))"
   ]
  },
  {
   "cell_type": "code",
   "execution_count": null,
   "metadata": {
    "slideshow": {
     "slide_type": "-"
    }
   },
   "outputs": [],
   "source": [
    "point.distance(line)"
   ]
  },
  {
   "cell_type": "code",
   "execution_count": null,
   "metadata": {},
   "outputs": [],
   "source": [
    "square.area"
   ]
  },
  {
   "cell_type": "code",
   "execution_count": null,
   "metadata": {
    "slideshow": {
     "slide_type": "-"
    }
   },
   "outputs": [],
   "source": [
    "square.contains(point)"
   ]
  },
  {
   "cell_type": "code",
   "execution_count": null,
   "metadata": {
    "slideshow": {
     "slide_type": "-"
    }
   },
   "outputs": [],
   "source": [
    "line.intersects(square)"
   ]
  },
  {
   "cell_type": "markdown",
   "metadata": {
    "slideshow": {
     "slide_type": "subslide"
    }
   },
   "source": [
    "## Geopandas\n",
    "\n",
    "Geopandas organizes data in **GeoDataFrames**:"
   ]
  },
  {
   "cell_type": "code",
   "execution_count": null,
   "metadata": {
    "ExecuteTime": {
     "end_time": "2020-11-25T07:58:05.705994Z",
     "start_time": "2020-11-25T07:58:05.671306Z"
    },
    "slideshow": {
     "slide_type": "-"
    }
   },
   "outputs": [],
   "source": [
    "import geopandas as gpd\n",
    "from shapely import geometry\n",
    "\n",
    "data = gpd.GeoDataFrame(\n",
    "    {\n",
    "        \"name\": [name for name in locations.keys()],\n",
    "        \"size\": [len(name) for name in locations.keys()],\n",
    "    },\n",
    "    geometry=[geometry.Point(latlon[::-1]) for latlon in locations.values()],\n",
    "    crs=\"epsg:4326\",\n",
    ")\n",
    "data"
   ]
  },
  {
   "cell_type": "markdown",
   "metadata": {
    "slideshow": {
     "slide_type": "subslide"
    }
   },
   "source": [
    "## Geopandas\n",
    "\n",
    "Geopandas lets you explore the data on an interactive map provided by **Folium**:"
   ]
  },
  {
   "cell_type": "code",
   "execution_count": null,
   "metadata": {
    "slideshow": {
     "slide_type": "-"
    }
   },
   "outputs": [],
   "source": [
    "data.explore(marker_kwds={\"radius\": 20}, tiles=\"stamenwatercolor\")"
   ]
  },
  {
   "cell_type": "markdown",
   "metadata": {
    "slideshow": {
     "slide_type": "subslide"
    }
   },
   "source": [
    "## Geopandas\n",
    "\n",
    "**GeoDataFrames** are also pandas **DataFrames** so all the pandas functionality is available:"
   ]
  },
  {
   "cell_type": "code",
   "execution_count": null,
   "metadata": {
    "ExecuteTime": {
     "end_time": "2020-11-25T07:58:08.284045Z",
     "start_time": "2020-11-25T07:58:08.259656Z"
    },
    "slideshow": {
     "slide_type": "-"
    }
   },
   "outputs": [],
   "source": [
    "data.query(\"size <= 8\")"
   ]
  },
  {
   "cell_type": "markdown",
   "metadata": {
    "slideshow": {
     "slide_type": "subslide"
    }
   },
   "source": [
    "## Geopandas\n",
    "\n",
    "The following example read data from a Shapefile, one of several common file formats for geodata:"
   ]
  },
  {
   "cell_type": "code",
   "execution_count": null,
   "metadata": {
    "ExecuteTime": {
     "end_time": "2020-11-25T08:01:45.702745Z",
     "start_time": "2020-11-25T08:01:44.982761Z"
    },
    "slideshow": {
     "slide_type": "-"
    }
   },
   "outputs": [],
   "source": [
    "countries = gpd.read_file(\"ne_110m_admin_0_countries.shp\")\n",
    "countries.head()"
   ]
  },
  {
   "cell_type": "markdown",
   "metadata": {
    "slideshow": {
     "slide_type": "subslide"
    }
   },
   "source": [
    "## Geopandas\n",
    "\n",
    "Note that each geometry (each country polygon) has some attached information."
   ]
  },
  {
   "cell_type": "code",
   "execution_count": null,
   "metadata": {
    "slideshow": {
     "slide_type": "-"
    }
   },
   "outputs": [],
   "source": [
    "countries.columns"
   ]
  },
  {
   "cell_type": "markdown",
   "metadata": {
    "slideshow": {
     "slide_type": "subslide"
    }
   },
   "source": [
    "## Geopandas\n",
    "\n",
    "Geopandas can also draw the data to **Matplotlib** plots:"
   ]
  },
  {
   "cell_type": "code",
   "execution_count": null,
   "metadata": {
    "ExecuteTime": {
     "end_time": "2020-11-25T08:03:43.620349Z",
     "start_time": "2020-11-25T08:03:43.451099Z"
    },
    "slideshow": {
     "slide_type": "-"
    }
   },
   "outputs": [],
   "source": [
    "countries.plot(figsize=(15, 15));"
   ]
  },
  {
   "cell_type": "markdown",
   "metadata": {
    "slideshow": {
     "slide_type": "subslide"
    }
   },
   "source": [
    "## Geopandas\n",
    "\n",
    "Plots can also be combined with queries and other pandas functionality:"
   ]
  },
  {
   "cell_type": "code",
   "execution_count": null,
   "metadata": {
    "ExecuteTime": {
     "end_time": "2020-11-25T08:03:46.238870Z",
     "start_time": "2020-11-25T08:03:46.096872Z"
    },
    "slideshow": {
     "slide_type": "-"
    }
   },
   "outputs": [],
   "source": [
    "countries.query(\"POP_EST >= 50_000_000\").plot(figsize=(15, 15));"
   ]
  },
  {
   "cell_type": "markdown",
   "metadata": {
    "slideshow": {
     "slide_type": "subslide"
    }
   },
   "source": [
    "## Geopandas\n",
    "\n",
    "You can color the map based on one of the columns:"
   ]
  },
  {
   "cell_type": "code",
   "execution_count": null,
   "metadata": {
    "ExecuteTime": {
     "end_time": "2020-11-25T08:03:11.442396Z",
     "start_time": "2020-11-25T08:03:11.280446Z"
    },
    "slideshow": {
     "slide_type": "-"
    }
   },
   "outputs": [],
   "source": [
    "import numpy as np\n",
    "\n",
    "(\n",
    "    countries.assign(log_pop=np.log10(countries.POP_EST))\n",
    "    .plot(column=\"log_pop\", figsize=(10, 10), cmap=\"winter\")\n",
    ");"
   ]
  },
  {
   "cell_type": "markdown",
   "metadata": {
    "slideshow": {
     "slide_type": "subslide"
    }
   },
   "source": [
    "## Geopandas\n",
    "\n",
    "**Geopandas** is a **work horse** for all kinds of analysis of geodata.\n",
    "\n",
    "The package gives access to lots of functionality, and can do **data analysis**, **conversion** between file formats, **transformation** of coordinates, and static **visualizations**.\n",
    "\n",
    "See [geopandas.org](https://geopandas.org/) for more information."
   ]
  },
  {
   "cell_type": "markdown",
   "metadata": {
    "slideshow": {
     "slide_type": "slide"
    }
   },
   "source": [
    "## Contextily\n",
    "\n",
    "**Contextily** kan be used to combine Web Map Tile Services with static visualizations:"
   ]
  },
  {
   "cell_type": "code",
   "execution_count": null,
   "metadata": {
    "slideshow": {
     "slide_type": "-"
    }
   },
   "outputs": [],
   "source": [
    "import contextily as ctx\n",
    "\n",
    "ax = (\n",
    "    countries.query(\"CONTINENT == 'North America'\")\n",
    "    .to_crs(\"epsg:3857\")\n",
    "    .plot(column=\"POP_EST\", alpha=0.5, figsize=(8, 8))\n",
    ")\n",
    "ctx.add_basemap(ax, zoom=2)"
   ]
  },
  {
   "cell_type": "markdown",
   "metadata": {
    "slideshow": {
     "slide_type": "subslide"
    }
   },
   "source": [
    "## Contextily\n",
    "\n",
    "Contextily also supports different WMTS providers:"
   ]
  },
  {
   "cell_type": "code",
   "execution_count": null,
   "metadata": {
    "slideshow": {
     "slide_type": "-"
    }
   },
   "outputs": [],
   "source": [
    "ax = (\n",
    "    countries.query(\"CONTINENT == 'South America' and NAME_EN.str.startswith('B')\")\n",
    "    .to_crs(\"epsg:3857\")\n",
    "    .plot(column=\"POP_EST\", alpha=0.3, figsize=(8, 8))\n",
    ")\n",
    "ctx.add_basemap(ax, source=ctx.providers.Esri )"
   ]
  },
  {
   "cell_type": "markdown",
   "metadata": {
    "slideshow": {
     "slide_type": "subslide"
    }
   },
   "source": [
    "## Contextily\n",
    "\n",
    "We can also work with **GEOJSON**"
   ]
  },
  {
   "cell_type": "code",
   "execution_count": null,
   "metadata": {
    "slideshow": {
     "slide_type": "-"
    }
   },
   "outputs": [],
   "source": [
    "holmenkollen = gpd.read_file(\"holmenkollen.json\")\n",
    "holmenkollen"
   ]
  },
  {
   "cell_type": "code",
   "execution_count": null,
   "metadata": {
    "slideshow": {
     "slide_type": "-"
    }
   },
   "outputs": [],
   "source": [
    "kv_norgeibilder = \"http://opencache.statkart.no/gatekeeper/gk/gk.open_nib_web_mercator_wmts_v2?SERVICE=WMTS&REQUEST=GetTile&VERSION=1.0.0&LAYER=Nibcache_web_mercator_EUREF89_v2&STYLE=default&FORMAT=image/jpgpng&TILEMATRIXSET=default028mm&TILEMATRIX={z}&TILEROW={y}&TILECOL={x}\"\n",
    "\n",
    "ax = holmenkollen.to_crs(epsg=3857).plot(alpha=0.3, figsize=(6, 6))\n",
    "ctx.add_basemap(ax, source=kv_norgeibilder, zoom=16)"
   ]
  },
  {
   "cell_type": "markdown",
   "metadata": {
    "slideshow": {
     "slide_type": "subslide"
    }
   },
   "source": [
    "## Contextily\n",
    "\n",
    "**Contextily** extends areas Web Map Tile Services can be used. It also supports transforming map tiles.\n",
    "\n",
    "The package is great for flexible, beautiful, static **visualizations**\n",
    "\n",
    "See [contextily.readthedocs.io](https://contextily.readthedocs.io/) for more information."
   ]
  },
  {
   "cell_type": "markdown",
   "metadata": {
    "slideshow": {
     "slide_type": "slide"
    }
   },
   "source": [
    "## RasterIO\n",
    "\n",
    "**RasterIO** handles raster data, typically geographical information stored in a grid"
   ]
  },
  {
   "cell_type": "code",
   "execution_count": null,
   "metadata": {
    "slideshow": {
     "slide_type": "-"
    }
   },
   "outputs": [],
   "source": [
    "import rasterio\n",
    "\n",
    "surface_model = rasterio.open(\"DOM_32-1-514-135-40.tif\")\n",
    "surface_model.meta"
   ]
  },
  {
   "cell_type": "markdown",
   "metadata": {
    "slideshow": {
     "slide_type": "subslide"
    }
   },
   "source": [
    "## RasterIO\n",
    "\n",
    "You can plot the grid or do some analysis on it"
   ]
  },
  {
   "cell_type": "code",
   "execution_count": null,
   "metadata": {
    "slideshow": {
     "slide_type": "-"
    }
   },
   "outputs": [],
   "source": [
    "import matplotlib.pyplot as plt\n",
    "from rasterio import plot\n",
    "\n",
    "fig, (ax1, ax2) = plt.subplots(1, 2, figsize=(12, 6))\n",
    "plot.show(surface_model, ax=ax1, cmap=\"terrain\")\n",
    "plot.show(surface_model, ax=ax2, contour=True, levels=range(200, 400, 20), alpha=1)\n",
    "plt.show()"
   ]
  },
  {
   "cell_type": "markdown",
   "metadata": {
    "slideshow": {
     "slide_type": "subslide"
    }
   },
   "source": [
    "## RasterIO\n",
    "\n",
    "You can combine RasterIO with polygons and other geometric objects to mask your data"
   ]
  },
  {
   "cell_type": "code",
   "execution_count": null,
   "metadata": {
    "slideshow": {
     "slide_type": "-"
    }
   },
   "outputs": [],
   "source": [
    "import numpy as np\n",
    "from rasterio import mask\n",
    "\n",
    "arena, transform = mask.mask(surface_model, holmenkollen.to_crs(\"epsg:25832\").geometry, crop=True)\n",
    "arena[arena < 0] = np.nan\n",
    "plt.imshow(arena[0], cmap=\"terrain\", aspect=\"equal\")\n",
    "plt.show()"
   ]
  },
  {
   "cell_type": "markdown",
   "metadata": {
    "slideshow": {
     "slide_type": "subslide"
    }
   },
   "source": [
    "## RasterIO\n",
    "\n",
    "**RasterIO** gives you effective and powerful access to raster data.\n",
    "\n",
    "The library supports many operations, including **transformations**, **combining data**, and **mask**.\n",
    "\n",
    "See [rasterio.readthedocs.io](https://rasterio.readthedocs.io/) for more information.\n"
   ]
  },
  {
   "cell_type": "markdown",
   "metadata": {
    "slideshow": {
     "slide_type": "slide"
    }
   },
   "source": [
    "<h1 align=\"center\">🎆 Thank you for your attention! 🎆</h1>\n",
    "\n",
    "<h2 align=\"center\">@gahjelle</h2>\n",
    "\n",
    "<h3 align=\"center\">github.com/gahjelle/talks</h3>"
   ]
  }
 ],
 "metadata": {
  "celltoolbar": "Slideshow",
  "jupytext": {
   "encoding": "# -*- coding: utf-8 -*-",
   "formats": "ipynb,py:percent"
  },
  "kernelspec": {
   "display_name": "Python 3 (ipykernel)",
   "language": "python",
   "name": "python3"
  },
  "language_info": {
   "codemirror_mode": {
    "name": "ipython",
    "version": 3
   },
   "file_extension": ".py",
   "mimetype": "text/x-python",
   "name": "python",
   "nbconvert_exporter": "python",
   "pygments_lexer": "ipython3",
   "version": "3.11.0"
  },
  "varInspector": {
   "cols": {
    "lenName": 16,
    "lenType": 16,
    "lenVar": 40
   },
   "kernels_config": {
    "python": {
     "delete_cmd_postfix": "",
     "delete_cmd_prefix": "del ",
     "library": "var_list.py",
     "varRefreshCmd": "print(var_dic_list())"
    },
    "r": {
     "delete_cmd_postfix": ") ",
     "delete_cmd_prefix": "rm(",
     "library": "var_list.r",
     "varRefreshCmd": "cat(var_dic_list()) "
    }
   },
   "types_to_exclude": [
    "module",
    "function",
    "builtin_function_or_method",
    "instance",
    "_Feature"
   ],
   "window_display": false
  }
 },
 "nbformat": 4,
 "nbformat_minor": 4
}
