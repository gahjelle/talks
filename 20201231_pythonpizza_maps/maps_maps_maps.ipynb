{
 "cells": [
  {
   "cell_type": "code",
   "execution_count": null,
   "metadata": {
    "ExecuteTime": {
     "end_time": "2020-11-25T06:27:48.054921Z",
     "start_time": "2020-11-25T06:27:47.859428Z"
    },
    "slideshow": {
     "slide_type": "skip"
    }
   },
   "outputs": [],
   "source": [
    "%matplotlib inline"
   ]
  },
  {
   "cell_type": "markdown",
   "metadata": {
    "slideshow": {
     "slide_type": "slide"
    }
   },
   "source": [
    "<h1 align=\"center\">Maps, Maps, Maps!!</h1>\n",
    "\n",
    "<h2 align=\"center\">Geir Arne Hjelle</h2>\n",
    "\n",
    "<h3 align=\"center\">Python Pizza 🍕 New Year's Countdown</h3>\n",
    "<h3 align=\"center\">December 31st, 2020</h3>"
   ]
  },
  {
   "cell_type": "markdown",
   "metadata": {
    "ExecuteTime": {
     "end_time": "2020-11-19T07:28:16.572049Z",
     "start_time": "2020-11-19T07:28:16.568915Z"
    },
    "slideshow": {
     "slide_type": "slide"
    }
   },
   "source": [
    "# Folium\n",
    "\n",
    "**Folium** is a wrapper around the **LeafletJS** JavaScript library, and can be used for making interactive maps:"
   ]
  },
  {
   "cell_type": "code",
   "execution_count": null,
   "metadata": {
    "ExecuteTime": {
     "end_time": "2020-11-25T06:44:54.958012Z",
     "start_time": "2020-11-25T06:44:54.946082Z"
    },
    "slideshow": {
     "slide_type": "-"
    }
   },
   "outputs": [],
   "source": [
    "import folium\n",
    "\n",
    "map = folium.Map((53.5, 10), zoom_start=5)\n",
    "map"
   ]
  },
  {
   "cell_type": "markdown",
   "metadata": {
    "slideshow": {
     "slide_type": "subslide"
    }
   },
   "source": [
    "## Folium\n",
    "\n",
    "We can add custom locations to use in the presentation:"
   ]
  },
  {
   "cell_type": "code",
   "execution_count": null,
   "metadata": {
    "ExecuteTime": {
     "end_time": "2020-11-25T07:58:02.622779Z",
     "start_time": "2020-11-25T07:58:02.613991Z"
    },
    "slideshow": {
     "slide_type": "-"
    }
   },
   "outputs": [],
   "source": [
    "locations = {\n",
    "    \"Andenes\": (69.32, 16.12),\n",
    "    \"Hamburg\": (53.55, 9.99),\n",
    "    \"Barcelona\": (41.39, 2.16),\n",
    "    \"St. Louis\": (38.63, -90.20),\n",
    "}"
   ]
  },
  {
   "cell_type": "markdown",
   "metadata": {
    "slideshow": {
     "slide_type": "subslide"
    }
   },
   "source": [
    "## Folium\n",
    "\n",
    "You can connect to different Web Map Tile Services (WMTS), and display markers, polygons and other information on your map:"
   ]
  },
  {
   "cell_type": "code",
   "execution_count": null,
   "metadata": {
    "ExecuteTime": {
     "end_time": "2020-11-25T06:46:17.899042Z",
     "start_time": "2020-11-25T06:46:17.867578Z"
    },
    "scrolled": true,
    "slideshow": {
     "slide_type": "-"
    }
   },
   "outputs": [],
   "source": [
    "map = folium.Map((40, 0), zoom_start=2, tiles=\"stamenwatercolor\")\n",
    "for name, latlon in locations.items():\n",
    "    folium.Marker(latlon, popup=name).add_to(map)\n",
    "map"
   ]
  },
  {
   "cell_type": "markdown",
   "metadata": {
    "slideshow": {
     "slide_type": "subslide"
    }
   },
   "source": [
    "## Folium\n",
    "\n",
    "**Folium** is great for **exploring** and getting an **overview** of your data.\n",
    "\n",
    "The package can also be used to **visualize** data for your end-users.\n",
    "\n",
    "See [python-visualization.github.io/folium/](https://python-visualization.github.io/folium/) for more information."
   ]
  },
  {
   "cell_type": "markdown",
   "metadata": {
    "slideshow": {
     "slide_type": "slide"
    }
   },
   "source": [
    "# Geopandas\n",
    "\n",
    "**Geopandas** is built on top of, and brings together the functionality of many different geospatial Python packages:"
   ]
  },
  {
   "cell_type": "markdown",
   "metadata": {
    "slideshow": {
     "slide_type": "fragment"
    }
   },
   "source": [
    "- **pandas**: Data analysis\n",
    "- **Shapely**: Describing points, polygons, etc\n",
    "- **Fiona**: Read and write geo-file formats like Shape, GeoJSON, etc\n",
    "- **PyProj**: Convert and transform coordinates. Based on **Proj**\n",
    "- **Descartes**: Draw points, polygons, etc in **Matplotlib** figures"
   ]
  },
  {
   "cell_type": "markdown",
   "metadata": {
    "slideshow": {
     "slide_type": "subslide"
    }
   },
   "source": [
    "## Geopandas\n",
    "\n",
    "Geopandas organizes data in **GeoDataFrames**:"
   ]
  },
  {
   "cell_type": "code",
   "execution_count": null,
   "metadata": {
    "ExecuteTime": {
     "end_time": "2020-11-25T07:58:05.705994Z",
     "start_time": "2020-11-25T07:58:05.671306Z"
    },
    "slideshow": {
     "slide_type": "-"
    }
   },
   "outputs": [],
   "source": [
    "import geopandas as gpd\n",
    "from shapely import geometry\n",
    "\n",
    "\n",
    "data = gpd.GeoDataFrame(\n",
    "    {\n",
    "        \"name\": [name for name in locations.keys()],\n",
    "        \"size\": [len(name) for name in locations.keys()],\n",
    "    },\n",
    "    geometry=[geometry.Point(latlon[::-1]) for latlon in locations.values()],\n",
    "    crs=\"epsg:4326\",\n",
    ")\n",
    "data"
   ]
  },
  {
   "cell_type": "markdown",
   "metadata": {
    "slideshow": {
     "slide_type": "subslide"
    }
   },
   "source": [
    "## Geopandas\n",
    "\n",
    "**GeoDataFrames** are also pandas **DataFrames** so all the pandas functionality is available:"
   ]
  },
  {
   "cell_type": "code",
   "execution_count": null,
   "metadata": {
    "ExecuteTime": {
     "end_time": "2020-11-25T07:58:08.284045Z",
     "start_time": "2020-11-25T07:58:08.259656Z"
    },
    "slideshow": {
     "slide_type": "-"
    }
   },
   "outputs": [],
   "source": [
    "data.query(\"size <= 8\")"
   ]
  },
  {
   "cell_type": "markdown",
   "metadata": {
    "slideshow": {
     "slide_type": "subslide"
    }
   },
   "source": [
    "## Geopandas\n",
    "\n",
    "The following example read data from a Shapefile, one of several common file formats for geodata:"
   ]
  },
  {
   "cell_type": "code",
   "execution_count": null,
   "metadata": {
    "ExecuteTime": {
     "end_time": "2020-11-25T08:01:45.702745Z",
     "start_time": "2020-11-25T08:01:44.982761Z"
    },
    "slideshow": {
     "slide_type": "-"
    }
   },
   "outputs": [],
   "source": [
    "countries = gpd.read_file(\"ne_110m_admin_0_countries.shp\")\n",
    "countries.head()"
   ]
  },
  {
   "cell_type": "markdown",
   "metadata": {
    "slideshow": {
     "slide_type": "fragment"
    }
   },
   "source": [
    "Note that each geometry (each country polygon) has some attached information."
   ]
  },
  {
   "cell_type": "markdown",
   "metadata": {
    "slideshow": {
     "slide_type": "subslide"
    }
   },
   "source": [
    "## Geopandas\n",
    "\n",
    "Geopandas can do simple drawing of the data:"
   ]
  },
  {
   "cell_type": "code",
   "execution_count": null,
   "metadata": {
    "ExecuteTime": {
     "end_time": "2020-11-25T08:03:43.620349Z",
     "start_time": "2020-11-25T08:03:43.451099Z"
    },
    "slideshow": {
     "slide_type": "-"
    }
   },
   "outputs": [],
   "source": [
    "countries.plot(figsize=(10, 10));"
   ]
  },
  {
   "cell_type": "markdown",
   "metadata": {
    "slideshow": {
     "slide_type": "subslide"
    }
   },
   "source": [
    "## Geopandas\n",
    "\n",
    "Plots can also be combined with queries and other pandas functionality:"
   ]
  },
  {
   "cell_type": "code",
   "execution_count": null,
   "metadata": {
    "ExecuteTime": {
     "end_time": "2020-11-25T08:03:46.238870Z",
     "start_time": "2020-11-25T08:03:46.096872Z"
    },
    "slideshow": {
     "slide_type": "-"
    }
   },
   "outputs": [],
   "source": [
    "countries.query(\"POP_EST >= 50_000_000\").plot(figsize=(10, 10));"
   ]
  },
  {
   "cell_type": "markdown",
   "metadata": {
    "slideshow": {
     "slide_type": "subslide"
    }
   },
   "source": [
    "## Geopandas\n",
    "\n",
    "You can color the map based on one of the columns:"
   ]
  },
  {
   "cell_type": "code",
   "execution_count": null,
   "metadata": {
    "ExecuteTime": {
     "end_time": "2020-11-25T08:03:11.442396Z",
     "start_time": "2020-11-25T08:03:11.280446Z"
    },
    "slideshow": {
     "slide_type": "-"
    }
   },
   "outputs": [],
   "source": [
    "import numpy as np\n",
    "\n",
    "(\n",
    "    countries.assign(log_pop=np.log10(countries.POP_EST))\n",
    "    .plot(column=\"log_pop\", figsize=(10, 10))\n",
    ");"
   ]
  },
  {
   "cell_type": "markdown",
   "metadata": {
    "slideshow": {
     "slide_type": "subslide"
    }
   },
   "source": [
    "## Geopandas\n",
    "\n",
    "**Geopandas** is a **work horse** for all kinds of analysis of geodata.\n",
    "\n",
    "The package gives access to lots of functionality, and can do **data analysis**, **conversion** between file formats, **transformation** of coordinates, and static **visualizations**.\n",
    "\n",
    "See [geopandas.org](https://geopandas.org/) for more information."
   ]
  },
  {
   "cell_type": "markdown",
   "metadata": {
    "slideshow": {
     "slide_type": "slide"
    }
   },
   "source": [
    "## Contextily\n",
    "\n",
    "**Contextily** kan be used to combine Web Map Tile Services with static visualizations:"
   ]
  },
  {
   "cell_type": "code",
   "execution_count": null,
   "metadata": {
    "slideshow": {
     "slide_type": "-"
    }
   },
   "outputs": [],
   "source": [
    "import contextily as ctx\n",
    "\n",
    "ax = (\n",
    "    countries.query(\"CONTINENT == 'North America'\")\n",
    "    .to_crs(\"epsg:3857\")\n",
    "    .plot(column=\"POP_EST\", alpha=0.5, figsize=(10, 10))\n",
    ")\n",
    "ctx.add_basemap(ax)"
   ]
  },
  {
   "cell_type": "markdown",
   "metadata": {
    "slideshow": {
     "slide_type": "subslide"
    }
   },
   "source": [
    "## Contextily\n",
    "\n",
    "Contextily also supports different WMTS providers:"
   ]
  },
  {
   "cell_type": "code",
   "execution_count": null,
   "metadata": {
    "slideshow": {
     "slide_type": "-"
    }
   },
   "outputs": [],
   "source": [
    "ax = (\n",
    "    countries.query(\"CONTINENT == 'South America' and NAME_EN.str.startswith('B')\")\n",
    "    .to_crs(\"epsg:3857\")\n",
    "    .plot(column=\"POP_EST\", alpha=0.3, figsize=(10, 10))\n",
    ")\n",
    "ctx.add_basemap(ax, source=ctx.providers.Esri.WorldImagery)"
   ]
  },
  {
   "cell_type": "markdown",
   "metadata": {
    "slideshow": {
     "slide_type": "subslide"
    }
   },
   "source": [
    "## Contextily\n",
    "\n",
    "**Contextily** extends areas Web Map Tile Services can be used. It also supports transforming map tiles.\n",
    "\n",
    "The package is great for flexible, beautiful, static **visualizations**\n",
    "\n",
    "See [contextily.readthedocs.io](https://contextily.readthedocs.io/) for more information."
   ]
  },
  {
   "cell_type": "markdown",
   "metadata": {
    "slideshow": {
     "slide_type": "slide"
    }
   },
   "source": [
    "<h1 align=\"center\">🎆 All the best for 2021! 🎆</h1>\n",
    "\n",
    "<h2 align=\"center\">geirarne@gmail.com</h2>"
   ]
  }
 ],
 "metadata": {
  "celltoolbar": "Slideshow",
  "jupytext": {
   "formats": "ipynb,py:percent"
  },
  "kernelspec": {
   "display_name": "Python 3",
   "language": "python",
   "name": "python3"
  },
  "language_info": {
   "codemirror_mode": {
    "name": "ipython",
    "version": 3
   },
   "file_extension": ".py",
   "mimetype": "text/x-python",
   "name": "python",
   "nbconvert_exporter": "python",
   "pygments_lexer": "ipython3",
   "version": "3.7.7"
  },
  "varInspector": {
   "cols": {
    "lenName": 16,
    "lenType": 16,
    "lenVar": 40
   },
   "kernels_config": {
    "python": {
     "delete_cmd_postfix": "",
     "delete_cmd_prefix": "del ",
     "library": "var_list.py",
     "varRefreshCmd": "print(var_dic_list())"
    },
    "r": {
     "delete_cmd_postfix": ") ",
     "delete_cmd_prefix": "rm(",
     "library": "var_list.r",
     "varRefreshCmd": "cat(var_dic_list()) "
    }
   },
   "types_to_exclude": [
    "module",
    "function",
    "builtin_function_or_method",
    "instance",
    "_Feature"
   ],
   "window_display": false
  }
 },
 "nbformat": 4,
 "nbformat_minor": 4
}
